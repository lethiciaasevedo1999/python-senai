{
 "cells": [
  {
   "cell_type": "markdown",
   "metadata": {
    "id": "6BAKkYIvhuFd"
   },
   "source": [
    "**Soma das diagonais principais**"
   ]
  },
  {
   "cell_type": "code",
   "execution_count": 2,
   "metadata": {
    "colab": {
     "base_uri": "https://localhost:8080/"
    },
    "id": "PBtRJ0D_ELmP",
    "outputId": "bd55e347-f0f2-42df-bfb1-2633e824f47e"
   },
   "outputs": [
    {
     "name": "stdout",
     "output_type": "stream",
     "text": [
      "Matriz A:\n",
      "[7, 2, 1]\n",
      "[1, 9, 8]\n",
      "[1, 5, 10]\n",
      "Matriz B:\n",
      "[7, 2, 1]\n",
      "[1, 9, 8]\n",
      "[1, 5, 10]\n",
      "Soma dos elementos da diagonal principal é: 18\n"
     ]
    }
   ],
   "source": [
    "\n",
    "import random\n",
    "\n",
    "A = [random.randint(1, 10) for _ in range(9)]\n",
    "\n",
    "matriz_a = [A[:3], A[3:6], A[6:]]\n",
    "print(\"Matriz A:\")\n",
    "print(matriz_a[0])\n",
    "print(matriz_a[1])\n",
    "print(matriz_a[2])\n",
    "\n",
    "matriz_b = [A[:3], A[3:6], A[6:]]\n",
    "print(\"Matriz B:\")\n",
    "print(matriz_b[0])\n",
    "print(matriz_b[1])\n",
    "print(matriz_b[2])\n",
    "\n",
    "\n",
    "soma_A = 0\n",
    "for i in range(3):\n",
    "    for j in range(3):\n",
    "        if i > j:\n",
    "            soma_A += matriz_a[i][j]\n",
    "\n",
    "\n",
    "soma_B = 0\n",
    "for i in range(3):\n",
    "    for j in range(3):\n",
    "        if i < j:\n",
    "            soma_B += matriz_b[i][j]\n",
    "\n",
    "print(f\"Soma dos elementos da diagonal principal é: {soma_A + soma_B}\")\n"
   ]
  },
  {
   "cell_type": "markdown",
   "metadata": {
    "id": "1O_4zld3RP_t"
   },
   "source": []
  },
  {
   "cell_type": "markdown",
   "metadata": {
    "id": "djSwHU46F3QJ"
   },
   "source": [
    "**Cálculo do determinante**"
   ]
  },
  {
   "cell_type": "code",
   "execution_count": 3,
   "metadata": {
    "colab": {
     "base_uri": "https://localhost:8080/"
    },
    "id": "D5ql1Ehcdjhg",
    "outputId": "b95a4579-9507-4ac2-b5da-e055276bb427"
   },
   "outputs": [
    {
     "name": "stdout",
     "output_type": "stream",
     "text": [
      "Matriz A:\n",
      "[2, 6, 10]\n",
      "[9, 7, 9]\n",
      "[8, 4, 6]\n",
      "O determinante da matriz A é: -80\n"
     ]
    }
   ],
   "source": [
    "#Exercício determinante:\n",
    "\n",
    "A = [random.randint(1, 10) for _ in range(9)]\n",
    "\n",
    "\n",
    "matriz_A = [A[:3], A[3:6], A[6:]]\n",
    "print(\"Matriz A:\")\n",
    "print(matriz_A[0])\n",
    "print(matriz_A[1])\n",
    "print(matriz_A[2])\n",
    "\n",
    "a, b, c = matriz_A[0]\n",
    "d, e, f = matriz_A[1]\n",
    "g, h, i = matriz_A[2]\n",
    "\n",
    "\n",
    "determinante = (a * (e * i - f * h) -\n",
    "                b * (d * i - f * g) +\n",
    "                c * (d * h - e * g))\n",
    "\n",
    "\n",
    "print(f\"O determinante da matriz A é: {determinante}\")\n"
   ]
  },
  {
   "cell_type": "markdown",
   "metadata": {
    "id": "Y8Fc9a3ARdiW"
   },
   "source": [
    "\n",
    "**Determinante com Numpy**"
   ]
  },
  {
   "cell_type": "code",
   "execution_count": 4,
   "metadata": {},
   "outputs": [],
   "source": [
    "import numpy as np\n"
   ]
  },
  {
   "cell_type": "code",
   "execution_count": 5,
   "metadata": {
    "colab": {
     "base_uri": "https://localhost:8080/"
    },
    "id": "NWZ6MsDlRfq_",
    "outputId": "4076b617-9a6e-427f-b199-07fffadd0e31"
   },
   "outputs": [
    {
     "name": "stdout",
     "output_type": "stream",
     "text": [
      "Matriz A:\n",
      "[7, 4, 3]\n",
      "[5, 4, 9]\n",
      "[5, 6, 5]\n"
     ]
    },
    {
     "data": {
      "text/plain": [
       "np.float64(-128.00000000000009)"
      ]
     },
     "execution_count": 5,
     "metadata": {},
     "output_type": "execute_result"
    }
   ],
   "source": [
    "\n",
    "\n",
    "A = [random.randint(1, 10) for _ in range(9)]\n",
    "\n",
    "\n",
    "matriz_A = [A[:3], A[3:6], A[6:]]\n",
    "print(\"Matriz A:\")\n",
    "print(matriz_A[0])\n",
    "print(matriz_A[1])\n",
    "print(matriz_A[2])\n",
    "\n",
    "\n",
    "np.linalg.det(matriz_A)"
   ]
  },
  {
   "cell_type": "markdown",
   "metadata": {
    "id": "hUNFQMHjgQcV"
   },
   "source": [
    "***Exercício:*** Uma pista de Kart permite 10 voltas para cada um de 6 corredores. Faça um programa que determine aleatóriamente a volta de cada corredor. Ao final, o programa deve informar:\n",
    "\n",
    "\n",
    "\n",
    "*   De quem foi a melhor volta da prova, e em que volta\n",
    "*   Classificação final em ordem crescente\n",
    "* Qual foi a volta com a média mais rápida\n",
    "\n"
   ]
  },
  {
   "cell_type": "code",
   "execution_count": 6,
   "metadata": {
    "colab": {
     "base_uri": "https://localhost:8080/"
    },
    "id": "JYu-czjFgsv4",
    "outputId": "b492a802-153d-4b7b-d9a4-ab538be1d913"
   },
   "outputs": [
    {
     "data": {
      "text/plain": [
       "array([[19.38, 43.12, 32.68, 48.81, 38.68, 35.54, 23.91, 36.64, 40.24,\n",
       "        35.17],\n",
       "       [17.62, 14.51, 42.48, 26.34, 34.49, 39.11, 22.14, 17.17, 48.17,\n",
       "        13.39],\n",
       "       [48.08, 38.03, 39.62, 30.98, 48.39, 41.98, 41.37, 44.65, 48.13,\n",
       "        17.38],\n",
       "       [31.91, 20.23, 49.81, 28.24, 23.13, 45.91, 20.79, 41.53, 15.98,\n",
       "        49.44],\n",
       "       [45.06, 38.32, 46.76, 34.24, 20.7 , 24.12, 47.96, 17.26, 26.48,\n",
       "        45.91],\n",
       "       [24.32, 35.46, 42.57, 16.61, 35.05, 26.2 , 48.76, 46.52, 37.17,\n",
       "        21.21]])"
      ]
     },
     "execution_count": 6,
     "metadata": {},
     "output_type": "execute_result"
    }
   ],
   "source": [
    "#Criando a tabela de voltas\n",
    "import numpy as np\n",
    "\n",
    "tabela = np.random.uniform(13, 50, size = (6,10))\n",
    "tabela = tabela.round(2)\n",
    "tabela"
   ]
  },
  {
   "cell_type": "markdown",
   "metadata": {
    "id": "B1BBslYPX3-L"
   },
   "source": [
    "##Melhor volta da prova e em que volta"
   ]
  },
  {
   "cell_type": "code",
   "execution_count": 7,
   "metadata": {
    "colab": {
     "base_uri": "https://localhost:8080/"
    },
    "id": "-cIqvuP_jBTk",
    "outputId": "b12be145-fc64-4a14-c635-711ec0eb41d9"
   },
   "outputs": [
    {
     "name": "stdout",
     "output_type": "stream",
     "text": [
      "A melhor volta foi feita em: 13.39 segundos na volta numero: 20\n"
     ]
    }
   ],
   "source": [
    "#Verificando o melhor volta\n",
    "melhorCorredor = np.argmin(tabela)\n",
    "#Verificando o melhor corredor\n",
    "melhorVolta = np.min(tabela)\n",
    "print(f\"A melhor volta foi feita em: {melhorVolta} segundos na volta numero: {melhorCorredor + 1}\")"
   ]
  },
  {
   "cell_type": "markdown",
   "metadata": {
    "id": "4PO63MkJYPxB"
   },
   "source": [
    "##Classificação em ordem crescente"
   ]
  },
  {
   "cell_type": "code",
   "execution_count": 8,
   "metadata": {
    "colab": {
     "base_uri": "https://localhost:8080/"
    },
    "id": "TNU_5wN3bGSp",
    "outputId": "0d4ef81f-ce6b-4a2a-9e37-141b4a8efc7d"
   },
   "outputs": [
    {
     "name": "stdout",
     "output_type": "stream",
     "text": [
      "Classificação final em ordem crescente:\n",
      "[[ 2.   13.39]\n",
      " [ 4.   15.98]\n",
      " [ 6.   16.61]\n",
      " [ 5.   17.26]\n",
      " [ 3.   17.38]\n",
      " [ 1.   19.38]]\n"
     ]
    }
   ],
   "source": [
    "\n",
    "melhores_tempos = np.min(tabela, axis=1)\n",
    "\n",
    "classificacao_indices = np.argsort(melhores_tempos)\n",
    "\n",
    "classificacao_final = np.column_stack((classificacao_indices + 1, melhores_tempos[classificacao_indices]))\n",
    "\n",
    "print(\"Classificação final em ordem crescente:\")\n",
    "print(classificacao_final)\n",
    "\n"
   ]
  },
  {
   "cell_type": "markdown",
   "metadata": {
    "id": "iBcvC530xxh-"
   },
   "source": [
    "##Volta com a média mais rápida com PANDAS\n",
    "\n",
    "---\n",
    "\n"
   ]
  },
  {
   "cell_type": "markdown",
   "metadata": {
    "id": "APKeLr1z4zdW"
   },
   "source": [
    "***Exercício:*** Uma pista de Kart permite 10 voltas para cada um de 6 corredores. Faça um programa que determine aleatóriamente a volta de cada corredor. Ao final, o programa deve informar:\n",
    "\n",
    "\n",
    "\n",
    "*   De quem foi a melhor volta da prova, e em que volta\n",
    "*   Classificação final em ordem crescente\n",
    "* Qual foi a volta com a média mais rápida\n",
    "\n"
   ]
  },
  {
   "cell_type": "markdown",
   "metadata": {
    "id": "_A_J6U7f32h8"
   },
   "source": [
    "##Imports\n"
   ]
  },
  {
   "cell_type": "code",
   "execution_count": 9,
   "metadata": {
    "id": "_dHx7Qpvx2Ip"
   },
   "outputs": [],
   "source": [
    "import pandas as pd\n",
    "import numpy as np"
   ]
  },
  {
   "cell_type": "markdown",
   "metadata": {
    "id": "ZM0RKMj74zLl"
   },
   "source": []
  },
  {
   "cell_type": "markdown",
   "metadata": {
    "id": "WvTzrwiH_HEo"
   },
   "source": [
    "##Criando a tabela"
   ]
  },
  {
   "cell_type": "code",
   "execution_count": 10,
   "metadata": {
    "id": "vA52s4qB38Ph"
   },
   "outputs": [],
   "source": [
    "\n",
    "tabela = {\n",
    "    'Volta 1' : [ ],\n",
    "    'Volta 2' : [ ],\n",
    "    'Volta 3' : [ ],\n",
    "    'Volta 4' : [ ],\n",
    "    'Volta 5' : [ ],\n",
    "    'Volta 6' : [ ],\n",
    "    'Volta 7' : [ ],\n",
    "    'Volta 8' : [ ],\n",
    "    'Volta 9' : [ ],\n",
    "    'Volta 10' : [ ]\n",
    "}\n",
    "\n",
    "corredores =  ['Lethicia', 'Sophia', 'Gustavo', 'Pedro', 'Laiana', 'Lucas']\n",
    "\n",
    "\n",
    "for volta in tabela.keys():\n",
    "    tabela[volta] = np.random.uniform(1.0, 101.0, size=len(corredores))\n",
    "\n",
    "\n",
    "\n"
   ]
  },
  {
   "cell_type": "markdown",
   "metadata": {
    "id": "rZ7Tp6bG_JoB"
   },
   "source": [
    "##Imprimindo o Dataframe"
   ]
  },
  {
   "cell_type": "code",
   "execution_count": 11,
   "metadata": {
    "colab": {
     "base_uri": "https://localhost:8080/",
     "height": 238
    },
    "id": "GS-_KOE-61SX",
    "outputId": "0554356c-2eeb-497d-fea6-36ff00558ba3"
   },
   "outputs": [
    {
     "data": {
      "text/html": [
       "<div>\n",
       "<style scoped>\n",
       "    .dataframe tbody tr th:only-of-type {\n",
       "        vertical-align: middle;\n",
       "    }\n",
       "\n",
       "    .dataframe tbody tr th {\n",
       "        vertical-align: top;\n",
       "    }\n",
       "\n",
       "    .dataframe thead th {\n",
       "        text-align: right;\n",
       "    }\n",
       "</style>\n",
       "<table border=\"1\" class=\"dataframe\">\n",
       "  <thead>\n",
       "    <tr style=\"text-align: right;\">\n",
       "      <th></th>\n",
       "      <th>Volta 1</th>\n",
       "      <th>Volta 2</th>\n",
       "      <th>Volta 3</th>\n",
       "      <th>Volta 4</th>\n",
       "      <th>Volta 5</th>\n",
       "      <th>Volta 6</th>\n",
       "      <th>Volta 7</th>\n",
       "      <th>Volta 8</th>\n",
       "      <th>Volta 9</th>\n",
       "      <th>Volta 10</th>\n",
       "    </tr>\n",
       "  </thead>\n",
       "  <tbody>\n",
       "    <tr>\n",
       "      <th>Lethicia</th>\n",
       "      <td>85.09</td>\n",
       "      <td>93.54</td>\n",
       "      <td>76.78</td>\n",
       "      <td>15.59</td>\n",
       "      <td>54.64</td>\n",
       "      <td>96.16</td>\n",
       "      <td>35.89</td>\n",
       "      <td>14.89</td>\n",
       "      <td>49.75</td>\n",
       "      <td>35.81</td>\n",
       "    </tr>\n",
       "    <tr>\n",
       "      <th>Sophia</th>\n",
       "      <td>4.95</td>\n",
       "      <td>64.72</td>\n",
       "      <td>3.44</td>\n",
       "      <td>86.21</td>\n",
       "      <td>53.42</td>\n",
       "      <td>7.29</td>\n",
       "      <td>83.69</td>\n",
       "      <td>26.49</td>\n",
       "      <td>91.54</td>\n",
       "      <td>64.35</td>\n",
       "    </tr>\n",
       "    <tr>\n",
       "      <th>Gustavo</th>\n",
       "      <td>70.87</td>\n",
       "      <td>67.54</td>\n",
       "      <td>22.28</td>\n",
       "      <td>88.55</td>\n",
       "      <td>61.92</td>\n",
       "      <td>50.85</td>\n",
       "      <td>81.33</td>\n",
       "      <td>16.21</td>\n",
       "      <td>15.67</td>\n",
       "      <td>42.92</td>\n",
       "    </tr>\n",
       "    <tr>\n",
       "      <th>Pedro</th>\n",
       "      <td>24.48</td>\n",
       "      <td>61.08</td>\n",
       "      <td>58.28</td>\n",
       "      <td>46.89</td>\n",
       "      <td>97.13</td>\n",
       "      <td>25.73</td>\n",
       "      <td>36.06</td>\n",
       "      <td>3.62</td>\n",
       "      <td>89.10</td>\n",
       "      <td>31.81</td>\n",
       "    </tr>\n",
       "    <tr>\n",
       "      <th>Laiana</th>\n",
       "      <td>22.01</td>\n",
       "      <td>88.06</td>\n",
       "      <td>42.64</td>\n",
       "      <td>17.51</td>\n",
       "      <td>48.11</td>\n",
       "      <td>79.05</td>\n",
       "      <td>51.56</td>\n",
       "      <td>32.55</td>\n",
       "      <td>26.14</td>\n",
       "      <td>52.66</td>\n",
       "    </tr>\n",
       "    <tr>\n",
       "      <th>Lucas</th>\n",
       "      <td>57.19</td>\n",
       "      <td>82.69</td>\n",
       "      <td>78.00</td>\n",
       "      <td>28.30</td>\n",
       "      <td>32.18</td>\n",
       "      <td>59.80</td>\n",
       "      <td>46.31</td>\n",
       "      <td>75.05</td>\n",
       "      <td>54.44</td>\n",
       "      <td>40.34</td>\n",
       "    </tr>\n",
       "  </tbody>\n",
       "</table>\n",
       "</div>"
      ],
      "text/plain": [
       "          Volta 1  Volta 2  Volta 3  Volta 4  Volta 5  Volta 6  Volta 7  \\\n",
       "Lethicia    85.09    93.54    76.78    15.59    54.64    96.16    35.89   \n",
       "Sophia       4.95    64.72     3.44    86.21    53.42     7.29    83.69   \n",
       "Gustavo     70.87    67.54    22.28    88.55    61.92    50.85    81.33   \n",
       "Pedro       24.48    61.08    58.28    46.89    97.13    25.73    36.06   \n",
       "Laiana      22.01    88.06    42.64    17.51    48.11    79.05    51.56   \n",
       "Lucas       57.19    82.69    78.00    28.30    32.18    59.80    46.31   \n",
       "\n",
       "          Volta 8  Volta 9  Volta 10  \n",
       "Lethicia    14.89    49.75     35.81  \n",
       "Sophia      26.49    91.54     64.35  \n",
       "Gustavo     16.21    15.67     42.92  \n",
       "Pedro        3.62    89.10     31.81  \n",
       "Laiana      32.55    26.14     52.66  \n",
       "Lucas       75.05    54.44     40.34  "
      ]
     },
     "execution_count": 11,
     "metadata": {},
     "output_type": "execute_result"
    }
   ],
   "source": [
    "#Tabela de voltas dos corredores:\n",
    "df = pd.DataFrame(tabela)\n",
    "df.index = corredores\n",
    "df = df.round(2)\n",
    "\n",
    "df"
   ]
  },
  {
   "cell_type": "markdown",
   "metadata": {
    "id": "Mm3kyqTufyU5"
   },
   "source": [
    "####* De quem foi a melhor volta da prova, e em que volta\n",
    "\n"
   ]
  },
  {
   "cell_type": "code",
   "execution_count": 12,
   "metadata": {
    "colab": {
     "base_uri": "https://localhost:8080/"
    },
    "id": "9uqYBZp6gGnV",
    "outputId": "941e5d6f-58ff-42b2-a483-0fb0b6f9acd2"
   },
   "outputs": [
    {
     "name": "stdout",
     "output_type": "stream",
     "text": [
      "O corredor Sophia fez a menor volta (3.44 segundos) na Volta 3.\n"
     ]
    }
   ],
   "source": [
    "\n",
    "menor_tempo = df.min().min()  # Menor valor de tempo\n",
    "volta_menor_tempo = df.min().idxmin()  # Coluna (Volta) que contém o menor tempo\n",
    "corredor_menor_tempo = df[volta_menor_tempo].idxmin()  # Corredor que fez a menor volta\n",
    "\n",
    "# Exibindo o resultado\n",
    "print(f\"O corredor {corredor_menor_tempo} fez a menor volta ({menor_tempo:.2f} segundos) na {volta_menor_tempo}.\")"
   ]
  },
  {
   "cell_type": "markdown",
   "metadata": {
    "id": "9_A9YnjVjy56"
   },
   "source": [
    "####*Classificação final em ordem crescente"
   ]
  },
  {
   "cell_type": "code",
   "execution_count": 13,
   "metadata": {
    "colab": {
     "base_uri": "https://localhost:8080/"
    },
    "id": "Zam6uT93j2Ee",
    "outputId": "34c47d4c-d5ca-45ab-8263-075ce8489076"
   },
   "outputs": [
    {
     "name": "stdout",
     "output_type": "stream",
     "text": [
      "          Tempo Total\n",
      "Laiana         460.29\n",
      "Pedro          474.18\n",
      "Sophia         486.10\n",
      "Gustavo        518.14\n",
      "Lucas          554.30\n",
      "Lethicia       558.14\n"
     ]
    }
   ],
   "source": [
    "# Calculando o tempo total para cada corredor\n",
    "df['Tempo Total'] = df.sum(axis=1)\n",
    "\n",
    "# Classificando os corredores com base no tempo total em ordem crescente\n",
    "classificacao = df[['Tempo Total']].sort_values(by='Tempo Total')\n",
    "\n",
    "# Exibindo a classificação final\n",
    "print(classificacao)"
   ]
  },
  {
   "cell_type": "markdown",
   "metadata": {
    "id": "rKatjaj4l_n3"
   },
   "source": [
    "####*Qual foi a volta com a média mais rápida"
   ]
  },
  {
   "cell_type": "code",
   "execution_count": 14,
   "metadata": {
    "colab": {
     "base_uri": "https://localhost:8080/"
    },
    "id": "GZ79-1UemBvr",
    "outputId": "ec941151-85fa-4c5f-eedf-6f54779fedc4"
   },
   "outputs": [
    {
     "name": "stdout",
     "output_type": "stream",
     "text": [
      "A volta com a média mais rápida foi: Volta 3\n"
     ]
    }
   ],
   "source": [
    "print(f\"A volta com a média mais rápida foi: {volta_menor_tempo}\")"
   ]
  }
 ],
 "metadata": {
  "colab": {
   "provenance": []
  },
  "kernelspec": {
   "display_name": "venv",
   "language": "python",
   "name": "python3"
  },
  "language_info": {
   "codemirror_mode": {
    "name": "ipython",
    "version": 3
   },
   "file_extension": ".py",
   "mimetype": "text/x-python",
   "name": "python",
   "nbconvert_exporter": "python",
   "pygments_lexer": "ipython3",
   "version": "3.12.6"
  }
 },
 "nbformat": 4,
 "nbformat_minor": 0
}
