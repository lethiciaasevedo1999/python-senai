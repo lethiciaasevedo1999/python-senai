{
 "cells": [
  {
   "cell_type": "markdown",
   "metadata": {
    "id": "6BAKkYIvhuFd"
   },
   "source": [
    "**Soma das diagonais principais**"
   ]
  },
  {
   "cell_type": "code",
   "execution_count": null,
   "metadata": {
    "colab": {
     "base_uri": "https://localhost:8080/"
    },
    "id": "PBtRJ0D_ELmP",
    "outputId": "bd55e347-f0f2-42df-bfb1-2633e824f47e"
   },
   "outputs": [
    {
     "name": "stdout",
     "output_type": "stream",
     "text": [
      "Matriz A:\n",
      "[2, 10, 1]\n",
      "[3, 10, 9]\n",
      "[8, 8, 2]\n",
      "Matriz B:\n",
      "[2, 10, 1]\n",
      "[3, 10, 9]\n",
      "[8, 8, 2]\n",
      "Soma dos elementos da diagonal principal é: 37\n"
     ]
    }
   ],
   "source": [
    "\n",
    "import random\n",
    "\n",
    "A = [random.randint(1, 10) for _ in range(9)]\n",
    "\n",
    "matriz_a = [A[:3], A[3:6], A[6:]]\n",
    "print(\"Matriz A:\")\n",
    "print(matriz_A[0])\n",
    "print(matriz_A[1])\n",
    "print(matriz_A[2])\n",
    "\n",
    "matriz_b = [A[:3], A[3:6], A[6:]]\n",
    "print(\"Matriz B:\")\n",
    "print(matriz_A[0])\n",
    "print(matriz_A[1])\n",
    "print(matriz_A[2])\n",
    "\n",
    "\n",
    "soma_A = 0\n",
    "for i in range(3):\n",
    "    for j in range(3):\n",
    "        if i > j:\n",
    "            soma_A += matriz_a[i][j]\n",
    "\n",
    "\n",
    "soma_B = 0\n",
    "for i in range(3):\n",
    "    for j in range(3):\n",
    "        if i < j:\n",
    "            soma_B += matriz_b[i][j]\n",
    "\n",
    "print(f\"Soma dos elementos da diagonal principal é: {soma_A + soma_B}\")\n"
   ]
  },
  {
   "cell_type": "markdown",
   "metadata": {
    "id": "1O_4zld3RP_t"
   },
   "source": []
  },
  {
   "cell_type": "markdown",
   "metadata": {
    "id": "djSwHU46F3QJ"
   },
   "source": [
    "**Cálculo do determinante**"
   ]
  },
  {
   "cell_type": "code",
   "execution_count": null,
   "metadata": {
    "colab": {
     "base_uri": "https://localhost:8080/"
    },
    "id": "D5ql1Ehcdjhg",
    "outputId": "b95a4579-9507-4ac2-b5da-e055276bb427"
   },
   "outputs": [
    {
     "name": "stdout",
     "output_type": "stream",
     "text": [
      "Matriz A:\n",
      "[10, 10, 7]\n",
      "[4, 9, 3]\n",
      "[6, 1, 6]\n",
      "O determinante da matriz A é: 100\n"
     ]
    }
   ],
   "source": [
    "#Exercício determinante:\n",
    "\n",
    "A = [random.randint(1, 10) for _ in range(9)]\n",
    "\n",
    "\n",
    "matriz_A = [A[:3], A[3:6], A[6:]]\n",
    "print(\"Matriz A:\")\n",
    "print(matriz_A[0])\n",
    "print(matriz_A[1])\n",
    "print(matriz_A[2])\n",
    "\n",
    "a, b, c = matriz_A[0]\n",
    "d, e, f = matriz_A[1]\n",
    "g, h, i = matriz_A[2]\n",
    "\n",
    "\n",
    "determinante = (a * (e * i - f * h) -\n",
    "                b * (d * i - f * g) +\n",
    "                c * (d * h - e * g))\n",
    "\n",
    "\n",
    "print(f\"O determinante da matriz A é: {determinante}\")\n"
   ]
  },
  {
   "cell_type": "markdown",
   "metadata": {
    "id": "Y8Fc9a3ARdiW"
   },
   "source": [
    "\n",
    "**Determinante com Numpy**"
   ]
  },
  {
   "cell_type": "code",
   "execution_count": null,
   "metadata": {
    "colab": {
     "base_uri": "https://localhost:8080/"
    },
    "id": "NWZ6MsDlRfq_",
    "outputId": "4076b617-9a6e-427f-b199-07fffadd0e31"
   },
   "outputs": [
    {
     "name": "stdout",
     "output_type": "stream",
     "text": [
      "Matriz A:\n",
      "[8, 6, 8]\n",
      "[2, 8, 10]\n",
      "[1, 3, 3]\n"
     ]
    },
    {
     "data": {
      "text/plain": [
       "-39.99999999999998"
      ]
     },
     "execution_count": 36,
     "metadata": {},
     "output_type": "execute_result"
    }
   ],
   "source": [
    "import numpy as np\n",
    "\n",
    "\n",
    "A = [random.randint(1, 10) for _ in range(9)]\n",
    "\n",
    "\n",
    "matriz_A = [A[:3], A[3:6], A[6:]]\n",
    "print(\"Matriz A:\")\n",
    "print(matriz_A[0])\n",
    "print(matriz_A[1])\n",
    "print(matriz_A[2])\n",
    "\n",
    "\n",
    "np.linalg.det(matriz_A)"
   ]
  },
  {
   "cell_type": "markdown",
   "metadata": {
    "id": "hUNFQMHjgQcV"
   },
   "source": [
    "***Exercício:*** Uma pista de Kart permite 10 voltas para cada um de 6 corredores. Faça um programa que determine aleatóriamente a volta de cada corredor. Ao final, o programa deve informar:\n",
    "\n",
    "\n",
    "\n",
    "*   De quem foi a melhor volta da prova, e em que volta\n",
    "*   Classificação final em ordem crescente\n",
    "* Qual foi a volta com a média mais rápida\n",
    "\n"
   ]
  },
  {
   "cell_type": "code",
   "execution_count": null,
   "metadata": {
    "colab": {
     "base_uri": "https://localhost:8080/"
    },
    "id": "JYu-czjFgsv4",
    "outputId": "b492a802-153d-4b7b-d9a4-ab538be1d913"
   },
   "outputs": [
    {
     "data": {
      "text/plain": [
       "array([[35.23, 31.9 , 25.51, 42.97, 49.71, 23.95, 49.27, 44.34, 44.22,\n",
       "        40.16],\n",
       "       [16.14, 13.97, 31.74, 42.02, 28.51, 47.79, 37.98, 17.95, 27.86,\n",
       "        47.12],\n",
       "       [23.61, 15.38, 19.73, 13.27, 21.15, 41.12, 37.74, 33.31, 28.57,\n",
       "        37.96],\n",
       "       [43.69, 17.55, 45.7 , 17.74, 48.35, 47.84, 14.34, 42.95, 37.93,\n",
       "        27.98],\n",
       "       [42.77, 18.14, 42.06, 31.97, 38.86, 37.57, 33.16, 21.76, 37.23,\n",
       "        23.79],\n",
       "       [15.98, 41.61, 29.61, 14.63, 36.63, 16.45, 43.59, 13.6 , 41.69,\n",
       "        19.36]])"
      ]
     },
     "execution_count": 75,
     "metadata": {},
     "output_type": "execute_result"
    }
   ],
   "source": [
    "#Criando a tabela de voltas\n",
    "import numpy as np\n",
    "\n",
    "tabela = np.random.uniform(13, 50, size = (6,10))\n",
    "tabela = tabela.round(2)\n",
    "tabela"
   ]
  },
  {
   "cell_type": "markdown",
   "metadata": {
    "id": "B1BBslYPX3-L"
   },
   "source": [
    "##Melhor volta da prova e em que volta"
   ]
  },
  {
   "cell_type": "code",
   "execution_count": null,
   "metadata": {
    "colab": {
     "base_uri": "https://localhost:8080/"
    },
    "id": "-cIqvuP_jBTk",
    "outputId": "b12be145-fc64-4a14-c635-711ec0eb41d9"
   },
   "outputs": [
    {
     "name": "stdout",
     "output_type": "stream",
     "text": [
      "A melhor volta foi feita em: 13.27 segundos na volta numero: 24\n"
     ]
    }
   ],
   "source": [
    "#Verificando o melhor volta\n",
    "melhorCorredor = np.argmin(tabela)\n",
    "#Verificando o melhor corredor\n",
    "melhorVolta = np.min(tabela)\n",
    "print(f\"A melhor volta foi feita em: {melhorVolta} segundos na volta numero: {melhorCorredor + 1}\")"
   ]
  },
  {
   "cell_type": "markdown",
   "metadata": {
    "id": "4PO63MkJYPxB"
   },
   "source": [
    "##Classificação em ordem crescente"
   ]
  },
  {
   "cell_type": "code",
   "execution_count": null,
   "metadata": {
    "colab": {
     "base_uri": "https://localhost:8080/"
    },
    "id": "TNU_5wN3bGSp",
    "outputId": "0d4ef81f-ce6b-4a2a-9e37-141b4a8efc7d"
   },
   "outputs": [
    {
     "name": "stdout",
     "output_type": "stream",
     "text": [
      "Classificação final em ordem crescente:\n",
      "[[ 3.         15.72909164]\n",
      " [ 1.         16.31898116]\n",
      " [ 2.         17.17146717]\n",
      " [ 4.         18.35054212]\n",
      " [ 6.         18.4631143 ]\n",
      " [ 5.         22.04527293]]\n"
     ]
    }
   ],
   "source": [
    "\n",
    "melhores_tempos = np.min(tabela, axis=1)\n",
    "\n",
    "classificacao_indices = np.argsort(melhores_tempos)\n",
    "\n",
    "classificacao_final = np.column_stack((classificacao_indices + 1, melhores_tempos[classificacao_indices]))\n",
    "\n",
    "print(\"Classificação final em ordem crescente:\")\n",
    "print(classificacao_final)\n",
    "\n"
   ]
  },
  {
   "cell_type": "markdown",
   "metadata": {
    "id": "iBcvC530xxh-"
   },
   "source": [
    "##Volta com a média mais rápida com PANDAS\n",
    "\n",
    "---\n",
    "\n"
   ]
  },
  {
   "cell_type": "markdown",
   "metadata": {
    "id": "APKeLr1z4zdW"
   },
   "source": [
    "***Exercício:*** Uma pista de Kart permite 10 voltas para cada um de 6 corredores. Faça um programa que determine aleatóriamente a volta de cada corredor. Ao final, o programa deve informar:\n",
    "\n",
    "\n",
    "\n",
    "*   De quem foi a melhor volta da prova, e em que volta\n",
    "*   Classificação final em ordem crescente\n",
    "* Qual foi a volta com a média mais rápida\n",
    "\n"
   ]
  },
  {
   "cell_type": "markdown",
   "metadata": {
    "id": "_A_J6U7f32h8"
   },
   "source": [
    "##Imports\n"
   ]
  },
  {
   "cell_type": "code",
   "execution_count": null,
   "metadata": {
    "id": "_dHx7Qpvx2Ip"
   },
   "outputs": [],
   "source": [
    "import pandas as pd\n",
    "import numpy as np"
   ]
  },
  {
   "cell_type": "markdown",
   "metadata": {
    "id": "ZM0RKMj74zLl"
   },
   "source": []
  },
  {
   "cell_type": "markdown",
   "metadata": {
    "id": "WvTzrwiH_HEo"
   },
   "source": [
    "##Criando a tabela"
   ]
  },
  {
   "cell_type": "code",
   "execution_count": null,
   "metadata": {
    "id": "vA52s4qB38Ph"
   },
   "outputs": [],
   "source": [
    "\n",
    "tabela = {\n",
    "    'Volta 1' : [ ],\n",
    "    'Volta 2' : [ ],\n",
    "    'Volta 3' : [ ],\n",
    "    'Volta 4' : [ ],\n",
    "    'Volta 5' : [ ],\n",
    "    'Volta 6' : [ ],\n",
    "    'Volta 7' : [ ],\n",
    "    'Volta 8' : [ ],\n",
    "    'Volta 9' : [ ],\n",
    "    'Volta 10' : [ ]\n",
    "}\n",
    "\n",
    "corredores =  ['Lethicia', 'Sophia', 'Gustavo', 'Pedro', 'Laiana', 'Lucas']\n",
    "\n",
    "\n",
    "for volta in tabela.keys():\n",
    "    tabela[volta] = np.random.uniform(1.0, 101.0, size=len(corredores))\n",
    "\n",
    "\n",
    "\n"
   ]
  },
  {
   "cell_type": "markdown",
   "metadata": {
    "id": "rZ7Tp6bG_JoB"
   },
   "source": [
    "##Imprimindo o Dataframe"
   ]
  },
  {
   "cell_type": "code",
   "execution_count": null,
   "metadata": {
    "colab": {
     "base_uri": "https://localhost:8080/",
     "height": 238
    },
    "id": "GS-_KOE-61SX",
    "outputId": "0554356c-2eeb-497d-fea6-36ff00558ba3"
   },
   "outputs": [
    {
     "data": {
      "application/vnd.google.colaboratory.intrinsic+json": {
       "summary": "{\n  \"name\": \"df\",\n  \"rows\": 6,\n  \"fields\": [\n    {\n      \"column\": \"Volta 1\",\n      \"properties\": {\n        \"dtype\": \"number\",\n        \"std\": 25.61435177135402,\n        \"min\": 23.74,\n        \"max\": 93.28,\n        \"num_unique_values\": 6,\n        \"samples\": [\n          87.01,\n          49.07,\n          70.15\n        ],\n        \"semantic_type\": \"\",\n        \"description\": \"\"\n      }\n    },\n    {\n      \"column\": \"Volta 2\",\n      \"properties\": {\n        \"dtype\": \"number\",\n        \"std\": 29.387226306679576,\n        \"min\": 10.88,\n        \"max\": 88.67,\n        \"num_unique_values\": 6,\n        \"samples\": [\n          66.58,\n          54.79,\n          43.75\n        ],\n        \"semantic_type\": \"\",\n        \"description\": \"\"\n      }\n    },\n    {\n      \"column\": \"Volta 3\",\n      \"properties\": {\n        \"dtype\": \"number\",\n        \"std\": 26.767731817744043,\n        \"min\": 30.35,\n        \"max\": 95.45,\n        \"num_unique_values\": 6,\n        \"samples\": [\n          90.07,\n          88.18,\n          62.76\n        ],\n        \"semantic_type\": \"\",\n        \"description\": \"\"\n      }\n    },\n    {\n      \"column\": \"Volta 4\",\n      \"properties\": {\n        \"dtype\": \"number\",\n        \"std\": 21.145334000672584,\n        \"min\": 9.81,\n        \"max\": 58.45,\n        \"num_unique_values\": 6,\n        \"samples\": [\n          9.81,\n          30.76,\n          46.4\n        ],\n        \"semantic_type\": \"\",\n        \"description\": \"\"\n      }\n    },\n    {\n      \"column\": \"Volta 5\",\n      \"properties\": {\n        \"dtype\": \"number\",\n        \"std\": 36.59004441101431,\n        \"min\": 1.84,\n        \"max\": 89.07,\n        \"num_unique_values\": 6,\n        \"samples\": [\n          1.84,\n          89.07,\n          31.5\n        ],\n        \"semantic_type\": \"\",\n        \"description\": \"\"\n      }\n    },\n    {\n      \"column\": \"Volta 6\",\n      \"properties\": {\n        \"dtype\": \"number\",\n        \"std\": 34.58655326375652,\n        \"min\": 2.12,\n        \"max\": 95.67,\n        \"num_unique_values\": 6,\n        \"samples\": [\n          95.67,\n          9.8,\n          2.12\n        ],\n        \"semantic_type\": \"\",\n        \"description\": \"\"\n      }\n    },\n    {\n      \"column\": \"Volta 7\",\n      \"properties\": {\n        \"dtype\": \"number\",\n        \"std\": 18.877285468696677,\n        \"min\": 10.74,\n        \"max\": 61.7,\n        \"num_unique_values\": 6,\n        \"samples\": [\n          10.74,\n          28.16,\n          33.1\n        ],\n        \"semantic_type\": \"\",\n        \"description\": \"\"\n      }\n    },\n    {\n      \"column\": \"Volta 8\",\n      \"properties\": {\n        \"dtype\": \"number\",\n        \"std\": 33.53084475523991,\n        \"min\": 2.59,\n        \"max\": 90.97,\n        \"num_unique_values\": 6,\n        \"samples\": [\n          17.96,\n          25.31,\n          67.14\n        ],\n        \"semantic_type\": \"\",\n        \"description\": \"\"\n      }\n    },\n    {\n      \"column\": \"Volta 9\",\n      \"properties\": {\n        \"dtype\": \"number\",\n        \"std\": 30.437184933345378,\n        \"min\": 5.7,\n        \"max\": 81.89,\n        \"num_unique_values\": 6,\n        \"samples\": [\n          81.89,\n          64.87,\n          5.7\n        ],\n        \"semantic_type\": \"\",\n        \"description\": \"\"\n      }\n    },\n    {\n      \"column\": \"Volta 10\",\n      \"properties\": {\n        \"dtype\": \"number\",\n        \"std\": 17.931770037190045,\n        \"min\": 47.31,\n        \"max\": 94.39,\n        \"num_unique_values\": 6,\n        \"samples\": [\n          47.31,\n          68.72,\n          73.96\n        ],\n        \"semantic_type\": \"\",\n        \"description\": \"\"\n      }\n    }\n  ]\n}",
       "type": "dataframe",
       "variable_name": "df"
      },
      "text/html": [
       "\n",
       "  <div id=\"df-0f3d3a24-bdde-439d-8a18-0deb5652359e\" class=\"colab-df-container\">\n",
       "    <div>\n",
       "<style scoped>\n",
       "    .dataframe tbody tr th:only-of-type {\n",
       "        vertical-align: middle;\n",
       "    }\n",
       "\n",
       "    .dataframe tbody tr th {\n",
       "        vertical-align: top;\n",
       "    }\n",
       "\n",
       "    .dataframe thead th {\n",
       "        text-align: right;\n",
       "    }\n",
       "</style>\n",
       "<table border=\"1\" class=\"dataframe\">\n",
       "  <thead>\n",
       "    <tr style=\"text-align: right;\">\n",
       "      <th></th>\n",
       "      <th>Volta 1</th>\n",
       "      <th>Volta 2</th>\n",
       "      <th>Volta 3</th>\n",
       "      <th>Volta 4</th>\n",
       "      <th>Volta 5</th>\n",
       "      <th>Volta 6</th>\n",
       "      <th>Volta 7</th>\n",
       "      <th>Volta 8</th>\n",
       "      <th>Volta 9</th>\n",
       "      <th>Volta 10</th>\n",
       "    </tr>\n",
       "  </thead>\n",
       "  <tbody>\n",
       "    <tr>\n",
       "      <th>Lethicia</th>\n",
       "      <td>87.01</td>\n",
       "      <td>66.58</td>\n",
       "      <td>90.07</td>\n",
       "      <td>9.81</td>\n",
       "      <td>1.84</td>\n",
       "      <td>95.67</td>\n",
       "      <td>10.74</td>\n",
       "      <td>17.96</td>\n",
       "      <td>81.89</td>\n",
       "      <td>47.31</td>\n",
       "    </tr>\n",
       "    <tr>\n",
       "      <th>Sophia</th>\n",
       "      <td>49.07</td>\n",
       "      <td>54.79</td>\n",
       "      <td>88.18</td>\n",
       "      <td>30.76</td>\n",
       "      <td>89.07</td>\n",
       "      <td>9.80</td>\n",
       "      <td>28.16</td>\n",
       "      <td>25.31</td>\n",
       "      <td>64.87</td>\n",
       "      <td>68.72</td>\n",
       "    </tr>\n",
       "    <tr>\n",
       "      <th>Gustavo</th>\n",
       "      <td>93.28</td>\n",
       "      <td>10.88</td>\n",
       "      <td>45.79</td>\n",
       "      <td>58.45</td>\n",
       "      <td>8.36</td>\n",
       "      <td>25.83</td>\n",
       "      <td>61.70</td>\n",
       "      <td>55.86</td>\n",
       "      <td>55.87</td>\n",
       "      <td>63.05</td>\n",
       "    </tr>\n",
       "    <tr>\n",
       "      <th>Pedro</th>\n",
       "      <td>23.74</td>\n",
       "      <td>88.67</td>\n",
       "      <td>95.45</td>\n",
       "      <td>9.89</td>\n",
       "      <td>5.44</td>\n",
       "      <td>55.72</td>\n",
       "      <td>24.36</td>\n",
       "      <td>90.97</td>\n",
       "      <td>15.12</td>\n",
       "      <td>92.30</td>\n",
       "    </tr>\n",
       "    <tr>\n",
       "      <th>Laiana</th>\n",
       "      <td>68.78</td>\n",
       "      <td>18.32</td>\n",
       "      <td>30.35</td>\n",
       "      <td>10.56</td>\n",
       "      <td>67.88</td>\n",
       "      <td>26.30</td>\n",
       "      <td>52.80</td>\n",
       "      <td>2.59</td>\n",
       "      <td>64.33</td>\n",
       "      <td>94.39</td>\n",
       "    </tr>\n",
       "    <tr>\n",
       "      <th>Lucas</th>\n",
       "      <td>70.15</td>\n",
       "      <td>43.75</td>\n",
       "      <td>62.76</td>\n",
       "      <td>46.40</td>\n",
       "      <td>31.50</td>\n",
       "      <td>2.12</td>\n",
       "      <td>33.10</td>\n",
       "      <td>67.14</td>\n",
       "      <td>5.70</td>\n",
       "      <td>73.96</td>\n",
       "    </tr>\n",
       "  </tbody>\n",
       "</table>\n",
       "</div>\n",
       "    <div class=\"colab-df-buttons\">\n",
       "\n",
       "  <div class=\"colab-df-container\">\n",
       "    <button class=\"colab-df-convert\" onclick=\"convertToInteractive('df-0f3d3a24-bdde-439d-8a18-0deb5652359e')\"\n",
       "            title=\"Convert this dataframe to an interactive table.\"\n",
       "            style=\"display:none;\">\n",
       "\n",
       "  <svg xmlns=\"http://www.w3.org/2000/svg\" height=\"24px\" viewBox=\"0 -960 960 960\">\n",
       "    <path d=\"M120-120v-720h720v720H120Zm60-500h600v-160H180v160Zm220 220h160v-160H400v160Zm0 220h160v-160H400v160ZM180-400h160v-160H180v160Zm440 0h160v-160H620v160ZM180-180h160v-160H180v160Zm440 0h160v-160H620v160Z\"/>\n",
       "  </svg>\n",
       "    </button>\n",
       "\n",
       "  <style>\n",
       "    .colab-df-container {\n",
       "      display:flex;\n",
       "      gap: 12px;\n",
       "    }\n",
       "\n",
       "    .colab-df-convert {\n",
       "      background-color: #E8F0FE;\n",
       "      border: none;\n",
       "      border-radius: 50%;\n",
       "      cursor: pointer;\n",
       "      display: none;\n",
       "      fill: #1967D2;\n",
       "      height: 32px;\n",
       "      padding: 0 0 0 0;\n",
       "      width: 32px;\n",
       "    }\n",
       "\n",
       "    .colab-df-convert:hover {\n",
       "      background-color: #E2EBFA;\n",
       "      box-shadow: 0px 1px 2px rgba(60, 64, 67, 0.3), 0px 1px 3px 1px rgba(60, 64, 67, 0.15);\n",
       "      fill: #174EA6;\n",
       "    }\n",
       "\n",
       "    .colab-df-buttons div {\n",
       "      margin-bottom: 4px;\n",
       "    }\n",
       "\n",
       "    [theme=dark] .colab-df-convert {\n",
       "      background-color: #3B4455;\n",
       "      fill: #D2E3FC;\n",
       "    }\n",
       "\n",
       "    [theme=dark] .colab-df-convert:hover {\n",
       "      background-color: #434B5C;\n",
       "      box-shadow: 0px 1px 3px 1px rgba(0, 0, 0, 0.15);\n",
       "      filter: drop-shadow(0px 1px 2px rgba(0, 0, 0, 0.3));\n",
       "      fill: #FFFFFF;\n",
       "    }\n",
       "  </style>\n",
       "\n",
       "    <script>\n",
       "      const buttonEl =\n",
       "        document.querySelector('#df-0f3d3a24-bdde-439d-8a18-0deb5652359e button.colab-df-convert');\n",
       "      buttonEl.style.display =\n",
       "        google.colab.kernel.accessAllowed ? 'block' : 'none';\n",
       "\n",
       "      async function convertToInteractive(key) {\n",
       "        const element = document.querySelector('#df-0f3d3a24-bdde-439d-8a18-0deb5652359e');\n",
       "        const dataTable =\n",
       "          await google.colab.kernel.invokeFunction('convertToInteractive',\n",
       "                                                    [key], {});\n",
       "        if (!dataTable) return;\n",
       "\n",
       "        const docLinkHtml = 'Like what you see? Visit the ' +\n",
       "          '<a target=\"_blank\" href=https://colab.research.google.com/notebooks/data_table.ipynb>data table notebook</a>'\n",
       "          + ' to learn more about interactive tables.';\n",
       "        element.innerHTML = '';\n",
       "        dataTable['output_type'] = 'display_data';\n",
       "        await google.colab.output.renderOutput(dataTable, element);\n",
       "        const docLink = document.createElement('div');\n",
       "        docLink.innerHTML = docLinkHtml;\n",
       "        element.appendChild(docLink);\n",
       "      }\n",
       "    </script>\n",
       "  </div>\n",
       "\n",
       "\n",
       "<div id=\"df-d1ce8b46-aad6-4790-b0f5-1839db2bc72a\">\n",
       "  <button class=\"colab-df-quickchart\" onclick=\"quickchart('df-d1ce8b46-aad6-4790-b0f5-1839db2bc72a')\"\n",
       "            title=\"Suggest charts\"\n",
       "            style=\"display:none;\">\n",
       "\n",
       "<svg xmlns=\"http://www.w3.org/2000/svg\" height=\"24px\"viewBox=\"0 0 24 24\"\n",
       "     width=\"24px\">\n",
       "    <g>\n",
       "        <path d=\"M19 3H5c-1.1 0-2 .9-2 2v14c0 1.1.9 2 2 2h14c1.1 0 2-.9 2-2V5c0-1.1-.9-2-2-2zM9 17H7v-7h2v7zm4 0h-2V7h2v10zm4 0h-2v-4h2v4z\"/>\n",
       "    </g>\n",
       "</svg>\n",
       "  </button>\n",
       "\n",
       "<style>\n",
       "  .colab-df-quickchart {\n",
       "      --bg-color: #E8F0FE;\n",
       "      --fill-color: #1967D2;\n",
       "      --hover-bg-color: #E2EBFA;\n",
       "      --hover-fill-color: #174EA6;\n",
       "      --disabled-fill-color: #AAA;\n",
       "      --disabled-bg-color: #DDD;\n",
       "  }\n",
       "\n",
       "  [theme=dark] .colab-df-quickchart {\n",
       "      --bg-color: #3B4455;\n",
       "      --fill-color: #D2E3FC;\n",
       "      --hover-bg-color: #434B5C;\n",
       "      --hover-fill-color: #FFFFFF;\n",
       "      --disabled-bg-color: #3B4455;\n",
       "      --disabled-fill-color: #666;\n",
       "  }\n",
       "\n",
       "  .colab-df-quickchart {\n",
       "    background-color: var(--bg-color);\n",
       "    border: none;\n",
       "    border-radius: 50%;\n",
       "    cursor: pointer;\n",
       "    display: none;\n",
       "    fill: var(--fill-color);\n",
       "    height: 32px;\n",
       "    padding: 0;\n",
       "    width: 32px;\n",
       "  }\n",
       "\n",
       "  .colab-df-quickchart:hover {\n",
       "    background-color: var(--hover-bg-color);\n",
       "    box-shadow: 0 1px 2px rgba(60, 64, 67, 0.3), 0 1px 3px 1px rgba(60, 64, 67, 0.15);\n",
       "    fill: var(--button-hover-fill-color);\n",
       "  }\n",
       "\n",
       "  .colab-df-quickchart-complete:disabled,\n",
       "  .colab-df-quickchart-complete:disabled:hover {\n",
       "    background-color: var(--disabled-bg-color);\n",
       "    fill: var(--disabled-fill-color);\n",
       "    box-shadow: none;\n",
       "  }\n",
       "\n",
       "  .colab-df-spinner {\n",
       "    border: 2px solid var(--fill-color);\n",
       "    border-color: transparent;\n",
       "    border-bottom-color: var(--fill-color);\n",
       "    animation:\n",
       "      spin 1s steps(1) infinite;\n",
       "  }\n",
       "\n",
       "  @keyframes spin {\n",
       "    0% {\n",
       "      border-color: transparent;\n",
       "      border-bottom-color: var(--fill-color);\n",
       "      border-left-color: var(--fill-color);\n",
       "    }\n",
       "    20% {\n",
       "      border-color: transparent;\n",
       "      border-left-color: var(--fill-color);\n",
       "      border-top-color: var(--fill-color);\n",
       "    }\n",
       "    30% {\n",
       "      border-color: transparent;\n",
       "      border-left-color: var(--fill-color);\n",
       "      border-top-color: var(--fill-color);\n",
       "      border-right-color: var(--fill-color);\n",
       "    }\n",
       "    40% {\n",
       "      border-color: transparent;\n",
       "      border-right-color: var(--fill-color);\n",
       "      border-top-color: var(--fill-color);\n",
       "    }\n",
       "    60% {\n",
       "      border-color: transparent;\n",
       "      border-right-color: var(--fill-color);\n",
       "    }\n",
       "    80% {\n",
       "      border-color: transparent;\n",
       "      border-right-color: var(--fill-color);\n",
       "      border-bottom-color: var(--fill-color);\n",
       "    }\n",
       "    90% {\n",
       "      border-color: transparent;\n",
       "      border-bottom-color: var(--fill-color);\n",
       "    }\n",
       "  }\n",
       "</style>\n",
       "\n",
       "  <script>\n",
       "    async function quickchart(key) {\n",
       "      const quickchartButtonEl =\n",
       "        document.querySelector('#' + key + ' button');\n",
       "      quickchartButtonEl.disabled = true;  // To prevent multiple clicks.\n",
       "      quickchartButtonEl.classList.add('colab-df-spinner');\n",
       "      try {\n",
       "        const charts = await google.colab.kernel.invokeFunction(\n",
       "            'suggestCharts', [key], {});\n",
       "      } catch (error) {\n",
       "        console.error('Error during call to suggestCharts:', error);\n",
       "      }\n",
       "      quickchartButtonEl.classList.remove('colab-df-spinner');\n",
       "      quickchartButtonEl.classList.add('colab-df-quickchart-complete');\n",
       "    }\n",
       "    (() => {\n",
       "      let quickchartButtonEl =\n",
       "        document.querySelector('#df-d1ce8b46-aad6-4790-b0f5-1839db2bc72a button');\n",
       "      quickchartButtonEl.style.display =\n",
       "        google.colab.kernel.accessAllowed ? 'block' : 'none';\n",
       "    })();\n",
       "  </script>\n",
       "</div>\n",
       "\n",
       "  <div id=\"id_476bb0f6-23c1-48c4-8640-839d151fd43c\">\n",
       "    <style>\n",
       "      .colab-df-generate {\n",
       "        background-color: #E8F0FE;\n",
       "        border: none;\n",
       "        border-radius: 50%;\n",
       "        cursor: pointer;\n",
       "        display: none;\n",
       "        fill: #1967D2;\n",
       "        height: 32px;\n",
       "        padding: 0 0 0 0;\n",
       "        width: 32px;\n",
       "      }\n",
       "\n",
       "      .colab-df-generate:hover {\n",
       "        background-color: #E2EBFA;\n",
       "        box-shadow: 0px 1px 2px rgba(60, 64, 67, 0.3), 0px 1px 3px 1px rgba(60, 64, 67, 0.15);\n",
       "        fill: #174EA6;\n",
       "      }\n",
       "\n",
       "      [theme=dark] .colab-df-generate {\n",
       "        background-color: #3B4455;\n",
       "        fill: #D2E3FC;\n",
       "      }\n",
       "\n",
       "      [theme=dark] .colab-df-generate:hover {\n",
       "        background-color: #434B5C;\n",
       "        box-shadow: 0px 1px 3px 1px rgba(0, 0, 0, 0.15);\n",
       "        filter: drop-shadow(0px 1px 2px rgba(0, 0, 0, 0.3));\n",
       "        fill: #FFFFFF;\n",
       "      }\n",
       "    </style>\n",
       "    <button class=\"colab-df-generate\" onclick=\"generateWithVariable('df')\"\n",
       "            title=\"Generate code using this dataframe.\"\n",
       "            style=\"display:none;\">\n",
       "\n",
       "  <svg xmlns=\"http://www.w3.org/2000/svg\" height=\"24px\"viewBox=\"0 0 24 24\"\n",
       "       width=\"24px\">\n",
       "    <path d=\"M7,19H8.4L18.45,9,17,7.55,7,17.6ZM5,21V16.75L18.45,3.32a2,2,0,0,1,2.83,0l1.4,1.43a1.91,1.91,0,0,1,.58,1.4,1.91,1.91,0,0,1-.58,1.4L9.25,21ZM18.45,9,17,7.55Zm-12,3A5.31,5.31,0,0,0,4.9,8.1,5.31,5.31,0,0,0,1,6.5,5.31,5.31,0,0,0,4.9,4.9,5.31,5.31,0,0,0,6.5,1,5.31,5.31,0,0,0,8.1,4.9,5.31,5.31,0,0,0,12,6.5,5.46,5.46,0,0,0,6.5,12Z\"/>\n",
       "  </svg>\n",
       "    </button>\n",
       "    <script>\n",
       "      (() => {\n",
       "      const buttonEl =\n",
       "        document.querySelector('#id_476bb0f6-23c1-48c4-8640-839d151fd43c button.colab-df-generate');\n",
       "      buttonEl.style.display =\n",
       "        google.colab.kernel.accessAllowed ? 'block' : 'none';\n",
       "\n",
       "      buttonEl.onclick = () => {\n",
       "        google.colab.notebook.generateWithVariable('df');\n",
       "      }\n",
       "      })();\n",
       "    </script>\n",
       "  </div>\n",
       "\n",
       "    </div>\n",
       "  </div>\n"
      ],
      "text/plain": [
       "          Volta 1  Volta 2  Volta 3  Volta 4  Volta 5  Volta 6  Volta 7  \\\n",
       "Lethicia    87.01    66.58    90.07     9.81     1.84    95.67    10.74   \n",
       "Sophia      49.07    54.79    88.18    30.76    89.07     9.80    28.16   \n",
       "Gustavo     93.28    10.88    45.79    58.45     8.36    25.83    61.70   \n",
       "Pedro       23.74    88.67    95.45     9.89     5.44    55.72    24.36   \n",
       "Laiana      68.78    18.32    30.35    10.56    67.88    26.30    52.80   \n",
       "Lucas       70.15    43.75    62.76    46.40    31.50     2.12    33.10   \n",
       "\n",
       "          Volta 8  Volta 9  Volta 10  \n",
       "Lethicia    17.96    81.89     47.31  \n",
       "Sophia      25.31    64.87     68.72  \n",
       "Gustavo     55.86    55.87     63.05  \n",
       "Pedro       90.97    15.12     92.30  \n",
       "Laiana       2.59    64.33     94.39  \n",
       "Lucas       67.14     5.70     73.96  "
      ]
     },
     "execution_count": 12,
     "metadata": {},
     "output_type": "execute_result"
    }
   ],
   "source": [
    "#Tabela de voltas dos corredores:\n",
    "df = pd.DataFrame(tabela)\n",
    "df.index = corredores\n",
    "df = df.round(2)\n",
    "\n",
    "df"
   ]
  },
  {
   "cell_type": "markdown",
   "metadata": {
    "id": "Mm3kyqTufyU5"
   },
   "source": [
    "####* De quem foi a melhor volta da prova, e em que volta\n",
    "\n"
   ]
  },
  {
   "cell_type": "code",
   "execution_count": null,
   "metadata": {
    "colab": {
     "base_uri": "https://localhost:8080/"
    },
    "id": "9uqYBZp6gGnV",
    "outputId": "941e5d6f-58ff-42b2-a483-0fb0b6f9acd2"
   },
   "outputs": [
    {
     "name": "stdout",
     "output_type": "stream",
     "text": [
      "O corredor Lethicia fez a menor volta (1.84 segundos) na Volta 5.\n"
     ]
    }
   ],
   "source": [
    "\n",
    "menor_tempo = df.min().min()  # Menor valor de tempo\n",
    "volta_menor_tempo = df.min().idxmin()  # Coluna (Volta) que contém o menor tempo\n",
    "corredor_menor_tempo = df[volta_menor_tempo].idxmin()  # Corredor que fez a menor volta\n",
    "\n",
    "# Exibindo o resultado\n",
    "print(f\"O corredor {corredor_menor_tempo} fez a menor volta ({menor_tempo:.2f} segundos) na {volta_menor_tempo}.\")"
   ]
  },
  {
   "cell_type": "markdown",
   "metadata": {
    "id": "9_A9YnjVjy56"
   },
   "source": [
    "####*Classificação final em ordem crescente"
   ]
  },
  {
   "cell_type": "code",
   "execution_count": null,
   "metadata": {
    "colab": {
     "base_uri": "https://localhost:8080/"
    },
    "id": "Zam6uT93j2Ee",
    "outputId": "34c47d4c-d5ca-45ab-8263-075ce8489076"
   },
   "outputs": [
    {
     "name": "stdout",
     "output_type": "stream",
     "text": [
      "          Tempo Total\n",
      "Laiana         436.30\n",
      "Lucas          436.58\n",
      "Gustavo        479.07\n",
      "Pedro          501.66\n",
      "Sophia         508.73\n",
      "Lethicia       508.88\n"
     ]
    }
   ],
   "source": [
    "# Calculando o tempo total para cada corredor\n",
    "df['Tempo Total'] = df.sum(axis=1)\n",
    "\n",
    "# Classificando os corredores com base no tempo total em ordem crescente\n",
    "classificacao = df[['Tempo Total']].sort_values(by='Tempo Total')\n",
    "\n",
    "# Exibindo a classificação final\n",
    "print(classificacao)"
   ]
  },
  {
   "cell_type": "markdown",
   "metadata": {
    "id": "rKatjaj4l_n3"
   },
   "source": [
    "####*Qual foi a volta com a média mais rápida"
   ]
  },
  {
   "cell_type": "code",
   "execution_count": null,
   "metadata": {
    "colab": {
     "base_uri": "https://localhost:8080/"
    },
    "id": "GZ79-1UemBvr",
    "outputId": "ec941151-85fa-4c5f-eedf-6f54779fedc4"
   },
   "outputs": [
    {
     "name": "stdout",
     "output_type": "stream",
     "text": [
      "A volta com a média mais rápida foi: Volta 5\n"
     ]
    }
   ],
   "source": [
    "print(f\"A volta com a média mais rápida foi: {volta_menor_tempo}\")"
   ]
  }
 ],
 "metadata": {
  "colab": {
   "provenance": []
  },
  "kernelspec": {
   "display_name": "Python 3",
   "name": "python3"
  },
  "language_info": {
   "name": "python"
  }
 },
 "nbformat": 4,
 "nbformat_minor": 0
}
